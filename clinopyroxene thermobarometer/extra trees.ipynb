{
 "cells": [
  {
   "cell_type": "code",
   "execution_count": 1,
   "id": "2694ea1e-93b3-45c5-bfd6-033343cf0191",
   "metadata": {},
   "outputs": [],
   "source": [
    "import pandas as pd\n",
    "import numpy as np\n",
    "from sklearn.ensemble import ExtraTreesRegressor\n",
    "from sklearn.model_selection import train_test_split\n",
    "from sklearn.metrics import r2_score, mean_squared_error"
   ]
  },
  {
   "cell_type": "code",
   "execution_count": 2,
   "id": "769078bc-4e98-4a92-a2de-d4da84cbaf60",
   "metadata": {},
   "outputs": [],
   "source": [
    "data = pd.read_csv('TP bal.csv',skiprows=[0]) \n",
    "data = data.dropna(axis=1, how='all')\n",
    "data = data.drop(columns=['Sample_ID'])\n",
    "\n",
    "# 将所有非数值型的数据替换为 NaN\n",
    "data.replace('-', np.nan, inplace=True)\n",
    "\n",
    "# 将每列的 NaN 值用该列的平均值填充\n",
    "data = data.apply(lambda col: col.fillna(col.mean()))"
   ]
  },
  {
   "cell_type": "code",
   "execution_count": 3,
   "id": "bb0116dc-ab02-44aa-8413-c61e5bdc06a1",
   "metadata": {},
   "outputs": [],
   "source": [
    "features = data[['SiO2', 'TiO2', 'Al2O3', 'FeOt', 'MnO', 'MgO', 'CaO', 'Na2O', 'K2O', 'Cr2O3', 'P2O5', 'H2O','SiO2.1', 'TiO2.1', 'Al2O3.1', 'FeOt.1', 'MnO.1', 'MgO.1', 'CaO.1', 'Na2O.1', 'K2O.1', 'Cr2O3.1']]\n",
    "target_temperature = data['T_K']\n",
    "target_pressure = data['P_GPa']"
   ]
  },
  {
   "cell_type": "code",
   "execution_count": 148,
   "id": "cbf4544c-1c48-488b-92bf-c34cc20f3aa5",
   "metadata": {},
   "outputs": [],
   "source": [
    "extra_trees_model_temp = ExtraTreesRegressor(n_estimators=180,random_state=42)\n",
    "extra_trees_model_pressure = ExtraTreesRegressor(n_estimators=70,random_state=42)"
   ]
  },
  {
   "cell_type": "code",
   "execution_count": 149,
   "id": "cea82f0c-3d79-4cad-94c0-6afbf2772728",
   "metadata": {},
   "outputs": [],
   "source": [
    "features_train, features_valid, temp_train, temp_valid, pressure_train, pressure_valid = train_test_split(\n",
    "    features, target_temperature, target_pressure, test_size=0.3, random_state=42)\n"
   ]
  },
  {
   "cell_type": "code",
   "execution_count": 150,
   "id": "13fbe91e-9340-4a73-91cc-0bba160f787c",
   "metadata": {},
   "outputs": [],
   "source": [
    "extra_trees_model_temp.fit(features_train, temp_train)\n",
    "extra_trees_model_pressure.fit(features_train, pressure_train)\n",
    "\n",
    "temp_predictions = extra_trees_model_temp.predict(features_valid)\n",
    "pressure_predictions = extra_trees_model_pressure.predict(features_valid)"
   ]
  },
  {
   "cell_type": "code",
   "execution_count": 151,
   "id": "4e3365d5-756d-4ef0-bafc-765786593862",
   "metadata": {},
   "outputs": [],
   "source": [
    "from sklearn.metrics import r2_score, mean_squared_error\n",
    "\n",
    "r2_temp = r2_score(temp_valid, temp_predictions)\n",
    "rmse_temp = np.sqrt(mean_squared_error(temp_valid, temp_predictions))\n",
    "\n",
    "r2_pressure = r2_score(pressure_valid, pressure_predictions)\n",
    "rmse_pressure = np.sqrt(mean_squared_error(pressure_valid, pressure_predictions))"
   ]
  },
  {
   "cell_type": "code",
   "execution_count": 152,
   "id": "4527024a-03e4-4fb9-bb74-265a57d3e728",
   "metadata": {},
   "outputs": [
    {
     "name": "stdout",
     "output_type": "stream",
     "text": [
      "Temperature R-squared on Validation Set: 0.9289087492930911\n",
      "Pressure R-squared on Validation Set: 0.9275327075702147\n",
      "Temperature RMSE on Validation Set: 45.60953404867704\n",
      "Pressure RMSE on Validation Set: 0.26199838933247077\n"
     ]
    }
   ],
   "source": [
    "print(f'Temperature R-squared on Validation Set: {r2_temp}')\n",
    "print(f'Pressure R-squared on Validation Set: {r2_pressure}')\n",
    "\n",
    "print(f'Temperature RMSE on Validation Set: {rmse_temp}')\n",
    "print(f'Pressure RMSE on Validation Set: {rmse_pressure}')"
   ]
  }
 ],
 "metadata": {
  "kernelspec": {
   "display_name": "Python 3 (ipykernel)",
   "language": "python",
   "name": "python3"
  },
  "language_info": {
   "codemirror_mode": {
    "name": "ipython",
    "version": 3
   },
   "file_extension": ".py",
   "mimetype": "text/x-python",
   "name": "python",
   "nbconvert_exporter": "python",
   "pygments_lexer": "ipython3",
   "version": "3.11.5"
  }
 },
 "nbformat": 4,
 "nbformat_minor": 5
}
